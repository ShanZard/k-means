{
 "cells": [
  {
   "cell_type": "markdown",
   "metadata": {},
   "source": [
    "# Python实现聚类算法"
   ]
  },
  {
   "cell_type": "markdown",
   "metadata": {},
   "source": [
    "在Python上实现聚类算法，可以通过sklearn机器学习框架。   \n",
    "[sklearn 官方网站](https://scikit-learn.org/stable/)  \n",
    "[sklearn 中文翻译](https://www.cntofu.com/book/170/docs/22.md)  \n",
    "其他的机器学习算法都可以在网站查询如何实现  \n",
    "![常用聚类算法对比](https://scikit-learn.org/stable/_images/sphx_glr_plot_cluster_comparison_001.png)  \n",
    "<center>常用聚类算法对比"
   ]
  },
  {
   "cell_type": "markdown",
   "metadata": {},
   "source": [
    "## 1.K-Means实现  \n",
    "## 2.有效性评价"
   ]
  },
  {
   "cell_type": "markdown",
   "metadata": {},
   "source": [
    "### 1.1K-Means介绍"
   ]
  },
  {
   "cell_type": "markdown",
   "metadata": {},
   "source": [
    "K-Means 通常被称为 Lloyd’s algorithm（劳埃德算法）。  \n",
    "算法有三个步骤。   \n",
    "·第一步是选择 initial centroids （初始质心），最基本的方法是从 X 数据集中选择k个样本。初始化完成后，K-Means 由两个其他步骤之间的循环组成。  \n",
    "·第二步将每个样本分配到其 nearest centroid （最近的质心）。  \n",
    "·第三步通过取分配给每个先前质心的所有样本的平均值来创建新的质心。计算旧的和新的质心之间的差异，并且算法重复这些最后的两个步骤，直到该值小于阈值。换句话说，算法重复这个步骤，直到质心不再显著移动。"
   ]
  },
  {
   "cell_type": "markdown",
   "metadata": {},
   "source": [
    "### 1.2安装sklearn"
   ]
  },
  {
   "cell_type": "markdown",
   "metadata": {},
   "source": [
    "cmd 指令 `pip install scikit-learn`  \n",
    "安装之前需要numpy和scipy库"
   ]
  },
  {
   "cell_type": "markdown",
   "metadata": {},
   "source": [
    "### 1.3数据导入"
   ]
  },
  {
   "cell_type": "markdown",
   "metadata": {},
   "source": [
    "采用Pandas库导入数据  \n",
    "[Pandas.read的详细介绍](https://pandas.pydata.org/pandas-docs/stable/reference/api/pandas.read_excel.html)"
   ]
  },
  {
   "cell_type": "code",
   "execution_count": 1,
   "metadata": {},
   "outputs": [],
   "source": [
    "import pandas as pd"
   ]
  },
  {
   "cell_type": "code",
   "execution_count": 2,
   "metadata": {},
   "outputs": [],
   "source": [
    "datA=pd.read_excel(r'E:\\Users\\shanzard\\Desktop\\wind.xlsx') #数据集的地址"
   ]
  },
  {
   "cell_type": "code",
   "execution_count": 3,
   "metadata": {},
   "outputs": [
    {
     "name": "stdout",
     "output_type": "stream",
     "text": [
      "    Relative Humidity       Temp   Wind\n",
      "0            0.534453   8.724232  3.029\n",
      "1            0.512406  10.462069  2.679\n",
      "2            0.495082  11.945053  2.439\n",
      "3            0.490942  12.722790  2.438\n",
      "4            0.499233  12.744945  2.574\n",
      "5            0.510419  12.463970  2.681\n",
      "6            0.533165   8.030420  3.344\n",
      "7            0.516926   9.450432  3.011\n",
      "8            0.499599  10.985850  2.648\n",
      "9            0.492359  12.023987  2.450\n",
      "10           0.501205  12.084157  2.522\n",
      "11           0.505049  11.828141  2.684\n",
      "12           0.512534   8.049999  3.402\n",
      "13           0.513843   8.634794  3.184\n",
      "14           0.511907   9.486630  2.847\n",
      "15           0.513224  10.113642  2.585\n",
      "16           0.519951  10.201105  2.597\n",
      "17           0.522835  10.027741  2.824\n",
      "18           0.541853   5.948747  3.698\n",
      "19           0.543210   6.394309  3.476\n",
      "20           0.533441   7.375385  3.157\n",
      "21           0.529298   8.074839  2.881\n",
      "22           0.529530   8.434062  2.828\n",
      "23           0.520109   8.841874  3.059\n"
     ]
    }
   ],
   "source": [
    "print(datA)"
   ]
  },
  {
   "cell_type": "code",
   "execution_count": 4,
   "metadata": {},
   "outputs": [],
   "source": [
    "data=datA['Wind']"
   ]
  },
  {
   "cell_type": "code",
   "execution_count": 5,
   "metadata": {},
   "outputs": [
    {
     "name": "stdout",
     "output_type": "stream",
     "text": [
      "0     3.029\n",
      "1     2.679\n",
      "2     2.439\n",
      "3     2.438\n",
      "4     2.574\n",
      "5     2.681\n",
      "6     3.344\n",
      "7     3.011\n",
      "8     2.648\n",
      "9     2.450\n",
      "10    2.522\n",
      "11    2.684\n",
      "12    3.402\n",
      "13    3.184\n",
      "14    2.847\n",
      "15    2.585\n",
      "16    2.597\n",
      "17    2.824\n",
      "18    3.698\n",
      "19    3.476\n",
      "20    3.157\n",
      "21    2.881\n",
      "22    2.828\n",
      "23    3.059\n",
      "Name: Wind, dtype: float64\n"
     ]
    }
   ],
   "source": [
    "print(data)"
   ]
  },
  {
   "cell_type": "markdown",
   "metadata": {},
   "source": [
    "这样的数据K-Means函数是不能进行计算的，我们需要对数据进行处理"
   ]
  },
  {
   "cell_type": "code",
   "execution_count": 6,
   "metadata": {},
   "outputs": [],
   "source": [
    "import numpy as np"
   ]
  },
  {
   "cell_type": "code",
   "execution_count": 7,
   "metadata": {},
   "outputs": [
    {
     "name": "stdout",
     "output_type": "stream",
     "text": [
      "[3.029 2.679 2.439 2.438 2.574 2.681 3.344 3.011 2.648 2.45  2.522 2.684\n",
      " 3.402 3.184 2.847 2.585 2.597 2.824 3.698 3.476 3.157 2.881 2.828 3.059]\n"
     ]
    }
   ],
   "source": [
    "data=np.array(data)\n",
    "print(data)"
   ]
  },
  {
   "cell_type": "code",
   "execution_count": 8,
   "metadata": {},
   "outputs": [],
   "source": [
    "data=[[i] for  i in  data]   #数组转换成列表并且进行遍历"
   ]
  },
  {
   "cell_type": "code",
   "execution_count": 9,
   "metadata": {},
   "outputs": [
    {
     "name": "stdout",
     "output_type": "stream",
     "text": [
      "[[3.029], [2.679], [2.439], [2.438], [2.574], [2.681], [3.344], [3.011], [2.648], [2.45], [2.522], [2.684], [3.402], [3.184], [2.847], [2.585], [2.597], [2.824], [3.698], [3.476], [3.157], [2.881], [2.828], [3.059]]\n"
     ]
    }
   ],
   "source": [
    "print(data)"
   ]
  },
  {
   "cell_type": "markdown",
   "metadata": {},
   "source": [
    "### 1.4K-Means聚类"
   ]
  },
  {
   "cell_type": "code",
   "execution_count": 10,
   "metadata": {},
   "outputs": [],
   "source": [
    "from sklearn.cluster import KMeans"
   ]
  },
  {
   "cell_type": "code",
   "execution_count": 11,
   "metadata": {},
   "outputs": [],
   "source": [
    "julei=KMeans(n_clusters=4) #进行kmeans聚类"
   ]
  },
  {
   "cell_type": "code",
   "execution_count": 12,
   "metadata": {},
   "outputs": [
    {
     "data": {
      "text/plain": [
       "KMeans(n_clusters=4)"
      ]
     },
     "execution_count": 12,
     "metadata": {},
     "output_type": "execute_result"
    }
   ],
   "source": [
    "julei.fit(data) #对聚类的数据进行聚类"
   ]
  },
  {
   "cell_type": "code",
   "execution_count": 13,
   "metadata": {},
   "outputs": [],
   "source": [
    "label=julei.labels_ #获得聚类标签"
   ]
  },
  {
   "cell_type": "code",
   "execution_count": 14,
   "metadata": {},
   "outputs": [],
   "source": [
    "center=julei.cluster_centers_ #聚类中心"
   ]
  },
  {
   "cell_type": "code",
   "execution_count": 15,
   "metadata": {},
   "outputs": [
    {
     "name": "stdout",
     "output_type": "stream",
     "text": [
      "[2 1 3 3 3 1 0 2 1 3 3 1 0 2 1 3 3 1 0 0 2 1 1 2]\n"
     ]
    }
   ],
   "source": [
    "print(label)"
   ]
  },
  {
   "cell_type": "markdown",
   "metadata": {},
   "source": [
    "###  1.5二维聚类"
   ]
  },
  {
   "cell_type": "code",
   "execution_count": 16,
   "metadata": {},
   "outputs": [],
   "source": [
    "data1=datA['Wind']\n",
    "data1=np.array(data1)"
   ]
  },
  {
   "cell_type": "code",
   "execution_count": 17,
   "metadata": {},
   "outputs": [],
   "source": [
    "data2=datA['Temp']\n",
    "data2=np.array(data2)"
   ]
  },
  {
   "cell_type": "code",
   "execution_count": 18,
   "metadata": {},
   "outputs": [],
   "source": [
    "DATA2= np.vstack((data1,data2)).T"
   ]
  },
  {
   "cell_type": "code",
   "execution_count": 19,
   "metadata": {},
   "outputs": [
    {
     "name": "stdout",
     "output_type": "stream",
     "text": [
      "[[ 3.029       8.72423221]\n",
      " [ 2.679      10.46206897]\n",
      " [ 2.439      11.94505337]\n",
      " [ 2.438      12.72278996]\n",
      " [ 2.574      12.74494513]\n",
      " [ 2.681      12.46396976]\n",
      " [ 3.344       8.03041981]\n",
      " [ 3.011       9.45043158]\n",
      " [ 2.648      10.9858503 ]\n",
      " [ 2.45       12.02398714]\n",
      " [ 2.522      12.08415681]\n",
      " [ 2.684      11.8281408 ]\n",
      " [ 3.402       8.04999891]\n",
      " [ 3.184       8.63479379]\n",
      " [ 2.847       9.48662972]\n",
      " [ 2.585      10.11364231]\n",
      " [ 2.597      10.20110523]\n",
      " [ 2.824      10.02774124]\n",
      " [ 3.698       5.94874726]\n",
      " [ 3.476       6.39430857]\n",
      " [ 3.157       7.37538492]\n",
      " [ 2.881       8.07483853]\n",
      " [ 2.828       8.4340624 ]\n",
      " [ 3.059       8.84187356]]\n"
     ]
    }
   ],
   "source": [
    "print(DATA2)"
   ]
  },
  {
   "cell_type": "code",
   "execution_count": 20,
   "metadata": {},
   "outputs": [],
   "source": [
    "julei=KMeans(n_clusters=4) #进行kmeans聚类"
   ]
  },
  {
   "cell_type": "code",
   "execution_count": 21,
   "metadata": {},
   "outputs": [
    {
     "data": {
      "text/plain": [
       "KMeans(n_clusters=4)"
      ]
     },
     "execution_count": 21,
     "metadata": {},
     "output_type": "execute_result"
    }
   ],
   "source": [
    "julei.fit(DATA2) #对聚类的数据进行聚类"
   ]
  },
  {
   "cell_type": "code",
   "execution_count": 22,
   "metadata": {},
   "outputs": [
    {
     "name": "stdout",
     "output_type": "stream",
     "text": [
      "[1 0 2 2 2 2 1 0 0 2 2 2 1 1 0 0 0 0 3 3 1 1 1 1]\n"
     ]
    }
   ],
   "source": [
    "label=julei.labels_ \n",
    "print(label)"
   ]
  },
  {
   "cell_type": "markdown",
   "metadata": {},
   "source": [
    "## 2.有效性评价"
   ]
  },
  {
   "cell_type": "markdown",
   "metadata": {},
   "source": [
    "### 2.1有效性评价标准"
   ]
  },
  {
   "cell_type": "markdown",
   "metadata": {},
   "source": [
    "聚类算法属于无监督学习方法，不同的聚类数对聚类结果影响很大。  \n",
    "所以需要进行聚类有效性评价。  \n",
    "聚类评价指标比较多，常用的有：Rand指数、轮廓系数（Silhouette Coefficient）、Calinski-Harabaz 指数等等"
   ]
  },
  {
   "cell_type": "markdown",
   "metadata": {},
   "source": [
    "### 2.2轮廓系数进行聚类评价"
   ]
  },
  {
   "cell_type": "markdown",
   "metadata": {},
   "source": [
    "轮廓系数处于-1至1，越大表示簇间相似度高而不同簇相似度低，即聚类效果越好。"
   ]
  },
  {
   "cell_type": "code",
   "execution_count": 23,
   "metadata": {},
   "outputs": [],
   "source": [
    "from sklearn.metrics import silhouette_samples "
   ]
  },
  {
   "cell_type": "code",
   "execution_count": 24,
   "metadata": {},
   "outputs": [],
   "source": [
    "lkxs=silhouette_samples(DATA2,label)"
   ]
  },
  {
   "cell_type": "code",
   "execution_count": 25,
   "metadata": {},
   "outputs": [
    {
     "name": "stdout",
     "output_type": "stream",
     "text": [
      "[0.57478607 0.66104767 0.76142174 0.77629951 0.77554973 0.80455004\n",
      " 0.68711533 0.29520784 0.187657   0.79378871 0.80974971 0.67563262\n",
      " 0.67879682 0.63069369 0.38370257 0.73637444 0.74674376 0.70933117\n",
      " 0.79282757 0.74086288 0.17954224 0.70503309 0.65549773 0.47339465]\n"
     ]
    }
   ],
   "source": [
    "print(lkxs)"
   ]
  },
  {
   "cell_type": "code",
   "execution_count": 26,
   "metadata": {},
   "outputs": [
    {
     "name": "stdout",
     "output_type": "stream",
     "text": [
      "0.6348169415589558\n"
     ]
    }
   ],
   "source": [
    "means=np.mean(lkxs)\n",
    "print(means)"
   ]
  },
  {
   "cell_type": "markdown",
   "metadata": {},
   "source": [
    "轮廓系数的均值就能表示不同聚类数的好坏，因为我们可以写一个循环来计算聚类数从2到n-1的轮廓系数进行聚类评价"
   ]
  },
  {
   "cell_type": "code",
   "execution_count": 27,
   "metadata": {},
   "outputs": [],
   "source": [
    "def juleipingjia(n):\n",
    "    julei=KMeans(n_clusters=n)\n",
    "    julei.fit(DATA2)\n",
    "    label=julei.labels_\n",
    "    lkxs=silhouette_samples(DATA2,label,metric='euclidean')\n",
    "    means=np.mean(lkxs)\n",
    "    return means"
   ]
  },
  {
   "cell_type": "code",
   "execution_count": 28,
   "metadata": {},
   "outputs": [],
   "source": [
    "y=[]\n",
    "for n in range(2,23):\n",
    "    means=juleipingjia(n)\n",
    "    y.append(means)"
   ]
  },
  {
   "cell_type": "code",
   "execution_count": 29,
   "metadata": {},
   "outputs": [
    {
     "name": "stdout",
     "output_type": "stream",
     "text": [
      "[0.5863559172178429, 0.585719367481774, 0.6348169415589558, 0.5677727335999418, 0.5369329684261525, 0.5544387207348928, 0.5597969331372351, 0.5423693511862495, 0.5691775859754941, 0.5195443657040357, 0.48169252912900956, 0.4500824708113917, 0.4087394907774617, 0.38297390474290466, 0.3819942539842412, 0.34647424688120015, 0.2875930655396251, 0.23802249810923315, 0.18995716871784105, 0.15580500443560544, 0.100402794254208]\n"
     ]
    }
   ],
   "source": [
    "print(y)"
   ]
  },
  {
   "cell_type": "markdown",
   "metadata": {},
   "source": [
    "分别计算轮廓系数就能看出最佳聚类数"
   ]
  },
  {
   "cell_type": "code",
   "execution_count": null,
   "metadata": {},
   "outputs": [],
   "source": []
  }
 ],
 "metadata": {
  "kernelspec": {
   "display_name": "Python 3",
   "language": "python",
   "name": "python3"
  },
  "language_info": {
   "codemirror_mode": {
    "name": "ipython",
    "version": 3
   },
   "file_extension": ".py",
   "mimetype": "text/x-python",
   "name": "python",
   "nbconvert_exporter": "python",
   "pygments_lexer": "ipython3",
   "version": "3.8.5"
  }
 },
 "nbformat": 4,
 "nbformat_minor": 4
}
